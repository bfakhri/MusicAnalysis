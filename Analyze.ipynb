{
 "cells": [
  {
   "cell_type": "code",
   "execution_count": 1,
   "id": "raised-daughter",
   "metadata": {},
   "outputs": [],
   "source": [
    "import numpy as np\n",
    "import tensorflow as tf\n",
    "import librosa\n",
    "import os"
   ]
  },
  {
   "cell_type": "code",
   "execution_count": 2,
   "id": "indoor-impact",
   "metadata": {},
   "outputs": [],
   "source": [
    "# Hack to get it to work with RTX 2000 cards\n",
    "gpus = tf.config.experimental.list_physical_devices('GPU')\n",
    "for gpu in gpus:\n",
    "  tf.config.experimental.set_memory_growth(gpu, True)"
   ]
  },
  {
   "cell_type": "code",
   "execution_count": 3,
   "id": "opposite-guarantee",
   "metadata": {},
   "outputs": [],
   "source": [
    "# Load a file\n",
    "dataset_dir = './Baggins_Music/'\n",
    "music_filenames = os.listdir(dataset_dir)"
   ]
  },
  {
   "cell_type": "code",
   "execution_count": 4,
   "id": "closed-venezuela",
   "metadata": {},
   "outputs": [
    {
     "name": "stderr",
     "output_type": "stream",
     "text": [
      "/home/bij/anaconda3/envs/MusicAnalyzer/lib/python3.8/site-packages/librosa/core/audio.py:165: UserWarning: PySoundFile failed. Trying audioread instead.\n",
      "  warnings.warn(\"PySoundFile failed. Trying audioread instead.\")\n"
     ]
    }
   ],
   "source": [
    "y, sr = librosa.load(dataset_dir+music_filenames[0], mono=False)\n",
    "y = np.transpose(y)"
   ]
  },
  {
   "cell_type": "code",
   "execution_count": 7,
   "id": "enabling-culture",
   "metadata": {},
   "outputs": [
    {
     "data": {
      "text/plain": [
       "(68618189, 2)"
      ]
     },
     "execution_count": 7,
     "metadata": {},
     "output_type": "execute_result"
    }
   ],
   "source": [
    "y.shape"
   ]
  },
  {
   "cell_type": "code",
   "execution_count": 8,
   "id": "secondary-hypothetical",
   "metadata": {},
   "outputs": [
    {
     "data": {
      "text/plain": [
       "22050"
      ]
     },
     "execution_count": 8,
     "metadata": {},
     "output_type": "execute_result"
    }
   ],
   "source": [
    "# Papers and resources\n",
    "# WaveNet paper https://arxiv.org/pdf/1609.03499.pdf\n",
    "# WaveNet AutoEncoder paper (instrument decomp): https://arxiv.org/pdf/1704.01279.pdf\n",
    "# NSynth: https://magenta.tensorflow.org/nsynth\n",
    "# WaveNet implementation: https://github.com/ibab/tensorflow-wavenet"
   ]
  },
  {
   "cell_type": "code",
   "execution_count": 28,
   "id": "graduate-height",
   "metadata": {},
   "outputs": [],
   "source": [
    "# Define the audio autoencoder \n",
    "class AudioAutoEncoder(tf.keras.Model):\n",
    "\n",
    "    def __init__(self, input_len=1024):\n",
    "        super(AudioAutoEncoder, self).__init__()\n",
    "        self.input_len = input_len\n",
    "        \n",
    "        # Setup encoder layers\n",
    "        self.conv1 = tf.keras.layers.Conv1D(filters=32, kernel_size=16, strides=1, dilation_rate=10, activation='relu')\n",
    "        self.conv2 = tf.keras.layers.Conv1D(filters=32, kernel_size=16, strides=1, dilation_rate=10, activation='relu')\n",
    "        self.conv3 = tf.keras.layers.Conv1D(filters=32, kernel_size=16, strides=1, dilation_rate=10, activation='relu')\n",
    "        self.conv4 = tf.keras.layers.Conv1D(filters=32, kernel_size=16, strides=1, dilation_rate=10, activation='relu')\n",
    "        self.conv5 = tf.keras.layers.Conv1D(filters=32, kernel_size=16, strides=1, dilation_rate=10, activation='relu')\n",
    "        self.flatten = tf.keras.layers.Flatten()\n",
    "        self.fc1 = tf.keras.layers.Dense(units=256, activation='relu')\n",
    "        self.fc2 = tf.keras.layers.Dense(units=128, activation='relu')\n",
    "        \n",
    "        # Setup decoder layers\n",
    "        # Transpose Convolution: https://www.tensorflow.org/api_docs/python/tf/keras/layers/Conv1DTranspose\n",
    "        \n",
    "\n",
    "    def encoder(self, x):\n",
    "        x = self.conv1(x)\n",
    "        x = self.conv2(x)\n",
    "        x = self.conv3(x)\n",
    "        x = self.conv4(x)\n",
    "        x = self.conv5(x)\n",
    "        # Flatten the layer\n",
    "        x = self.flatten(x)\n",
    "        x = self.fc1(x)\n",
    "        x = self.fc2(x)\n",
    "        return x\n",
    "    \n",
    "    def decoder(self, z):\n",
    "        return z\n",
    "        \n",
    "    def call(self, inputs):\n",
    "        z = self.encoder(inputs)\n",
    "        x_hat = self.decoder(z)\n",
    "        \n",
    "        return x_hat\n",
    "\n",
    "    "
   ]
  },
  {
   "cell_type": "code",
   "execution_count": 29,
   "id": "threaded-coordination",
   "metadata": {},
   "outputs": [
    {
     "name": "stdout",
     "output_type": "stream",
     "text": [
      "(1, 1000, 2)\n",
      "WARNING:tensorflow:Layer audio_auto_encoder_10 is casting an input tensor from dtype float64 to the layer's dtype of float32, which is new behavior in TensorFlow 2.  The layer has dtype float32 because it's dtype defaults to floatx.\n",
      "\n",
      "If you intended to run this layer in float32, you can safely ignore this warning. If in doubt, this warning is likely only an issue if you are porting a TensorFlow 1.X model to TensorFlow 2.\n",
      "\n",
      "To change all layers to have dtype float64 by default, call `tf.keras.backend.set_floatx('float64')`. To change just this layer, pass dtype='float64' to the layer constructor. If you are the author of this layer, you can disable autocasting by passing autocast=False to the base Layer constructor.\n",
      "\n",
      "(1, 128)\n"
     ]
    }
   ],
   "source": [
    "auto_encoder = AudioAutoEncoder()\n",
    "y = np.random.rand(1, 1000, 2)\n",
    "print(y.shape)\n",
    "print(auto_encoder(y).shape)"
   ]
  },
  {
   "cell_type": "code",
   "execution_count": null,
   "id": "israeli-leather",
   "metadata": {},
   "outputs": [],
   "source": []
  }
 ],
 "metadata": {
  "kernelspec": {
   "display_name": "Python 3",
   "language": "python",
   "name": "python3"
  },
  "language_info": {
   "codemirror_mode": {
    "name": "ipython",
    "version": 3
   },
   "file_extension": ".py",
   "mimetype": "text/x-python",
   "name": "python",
   "nbconvert_exporter": "python",
   "pygments_lexer": "ipython3",
   "version": "3.8.5"
  }
 },
 "nbformat": 4,
 "nbformat_minor": 5
}
